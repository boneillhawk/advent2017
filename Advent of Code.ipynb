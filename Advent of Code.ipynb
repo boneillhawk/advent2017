{
 "cells": [
  {
   "cell_type": "markdown",
   "metadata": {},
   "source": [
    "# Introduction\n",
    "\n",
    "This is my notebook for the [2017 Advent of Code](http://adventofcode.com/2017/). I see this as an opportunity to write and share my thought processes, both for myself and anyone who comes across this (my students, hopefully). I also hope to note what skills are required for each problem, for my students and for my own memory. I remember students being concerned that these problems were outside their skill level, and I want to be able to directly point to the skills that I used to solve the problem and associate them with particular courses where possible.\n",
    "\n",
    "Last year, I did not really attempt to compete, beyond attempting to complete all 25 days. However, based on my own casual timing with a stopwatch, I felt that I could have appeared in the rankings, so I am going to try to solve each problem this year at Midnight EST. This is typically past my bedtime, so we will see how this goes. I will be using Python throughout. I once considered Java to be my primary language, but I'm growing more comfortable with Python and I think Python is better suited to races against the clock (at least for writing code -- I know Java will actually solve the problem faster).\n",
    "\n",
    "To begin with, I have included my solution template below. I built up this template over the course of the 2016 version, and after one day, I'm already finding things to change. Still, this will be my starting point:"
   ]
  },
  {
   "cell_type": "code",
   "execution_count": null,
   "metadata": {},
   "outputs": [],
   "source": [
    "import itertools\n",
    "import copy\n",
    "import collections\n",
    "import heapq\n",
    "import math\n",
    "import hashlib\n",
    "\n",
    "f = open('input\\\\input__.txt', 'r')\n",
    "lines = [line.strip() for line in f.readlines()]\n",
    "f.close()"
   ]
  },
  {
   "cell_type": "markdown",
   "metadata": {},
   "source": [
    "I used each of these modules multiple times. In fact, last year's Advent of Code introduced me, through colleagues and students, to the `itertools` module, which I find myself using more and more on challenges like these or Project Euler.\n",
    "\n",
    "Inspired by Peter Norvig's template, I suspect I will add a few helper functions over the weekend. Most likely, an A* implementation is on the way, as I used that a few times last year. I suspect I will revise this template over time, but I will make a note in future days. Going deeper, this writeup in a Jupyter Notebook is also inspired by [Peter Norvig's notebook](https://github.com/norvig/pytudes/blob/master/ipynb/Advent%20of%20Code.ipynb), who I suspect will have better things to say about these problems than I will."
   ]
  },
  {
   "cell_type": "markdown",
   "metadata": {},
   "source": [
    "# [Day 1](http://adventofcode.com/2017/day/1): Inverse Captcha\n",
    "\n",
    "This problem requires us to consider a single line of input -- a sequence of digits -- and find the sum of all digits that match the next digit in the sequence. That is, if the sequence includes `...55...`, then I should add 5 to my total to indicate the pair of 5s. If the sequence included `...555...`, I would add 5 twice, once for each adjacent pair. The problem also notes that we should consider the last digit of the sequence to be adjacent to the first digit of the sequence.\n",
    "\n",
    "This is well within the capabilities of **Introduction to Programming** students. Specifically, my solution makes use of the *accumulator pattern*, *string indexing*, and *type conversion*. My solution is below:"
   ]
  },
  {
   "cell_type": "code",
   "execution_count": 11,
   "metadata": {
    "scrolled": true
   },
   "outputs": [
    {
     "data": {
      "text/plain": [
       "1089"
      ]
     },
     "execution_count": 11,
     "metadata": {},
     "output_type": "execute_result"
    }
   ],
   "source": [
    "f = open('input\\\\input1.txt', 'r')\n",
    "line = f.readline().strip()\n",
    "f.close()\n",
    "\n",
    "total = 0\n",
    "for idx in range(len(line)):\n",
    "\tif line[idx] == line[idx-1]:\n",
    "\t\ttotal += int(line[idx])\n",
    "\n",
    "#print(total)\n",
    "total # To make output clear below"
   ]
  },
  {
   "cell_type": "markdown",
   "metadata": {},
   "source": [
    "This strategy takes advantage of one of my favorite, but simple, features of Python: negative indices. Instead of looking at the next digit in the sequence, my code actually checks the previous digit in the sequence. Same idea, but it means that when I start the loop at the first index of the sequence, I'm comparing to the digit at index -1 of the string. In other words, the first comparison happens between the first and last characters of the string, taking care of the tricky part of the problem right off the bat. From there, we compare each digit to the one that came immediately before it. When we have a match, we convert the digit to an integer and add it to our accumulator, `total`."
   ]
  },
  {
   "cell_type": "markdown",
   "metadata": {},
   "source": [
    "In **part two** of this puzzle, we no longer want to compare adjacent digits. Instead, we are told to compare each digit to the digit halfway through the sequence, looping back to the beginning if necessary. A useful provided sample input is `1212`. Each digit has a match. Looking at the first digit, we will have to compare to the third digit (since there are 4 digits total, we add 2 to our current comparison). These are a match. The same is true for the second digit. So our running total at this point is `1 + 2 = 3`.\n",
    "\n",
    "Here is where I messed up, and it cost me a place in the rankings in part two: We have to compare **every** digit. So in our example from above, the third digit matches the fifth digit (which is just the first digit after we loop around). Same for the the fourth digit. So our final total is `1+2+1+2 = 6`. If we match a digit in the first half of the sequence, then we _must_ match the corresponding digit in the second half. But in my initial attempt, I assumed that we had already accounted for that. So my solution was incorrect, giving me half of the expected total. (The universe smacked me down again by having the power go out right after I got the wrong answer. So I blame not getting points in part two partially on my own misunderstanding, and partially on the power going out and distracting me. I ended up submitting my part two solution on my phone.)\n",
    "\n",
    "My part two solution is below, which is based on my part one code:"
   ]
  },
  {
   "cell_type": "code",
   "execution_count": 13,
   "metadata": {
    "scrolled": true
   },
   "outputs": [
    {
     "data": {
      "text/plain": [
       "1156"
      ]
     },
     "execution_count": 13,
     "metadata": {},
     "output_type": "execute_result"
    }
   ],
   "source": [
    "f = open('input\\\\input1.txt', 'r')\n",
    "line = f.readline().strip()\n",
    "f.close()\n",
    "\n",
    "length = len(line)\n",
    "half = length // 2\n",
    "    \n",
    "total = 0\n",
    "for idx in range(len(line)):\n",
    "\tif line[idx] == line[(idx+half)%length]:\n",
    "\t\ttotal += int(line[idx])\n",
    "\t\t\n",
    "#print(total)\n",
    "total # To make output clear below"
   ]
  },
  {
   "cell_type": "markdown",
   "metadata": {},
   "source": [
    "The major change to this code comes in line 10, changing the right side of the comparison. Had I thought it through, I could have made use of negative indices, but modulo division came to mind first. Instead of comparing each index to the one before it, we compare the index to the one halfway through the sequence (represented by `idx+half`), modding by the length of the string to assure that we don't overshoot the end of the string."
   ]
  }
 ],
 "metadata": {
  "celltoolbar": "Tags",
  "kernelspec": {
   "display_name": "Python 3",
   "language": "python",
   "name": "python3"
  },
  "language_info": {
   "codemirror_mode": {
    "name": "ipython",
    "version": 3
   },
   "file_extension": ".py",
   "mimetype": "text/x-python",
   "name": "python",
   "nbconvert_exporter": "python",
   "pygments_lexer": "ipython3",
   "version": "3.5.2"
  }
 },
 "nbformat": 4,
 "nbformat_minor": 2
}
